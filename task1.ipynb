{
 "cells": [
  {
   "cell_type": "code",
   "execution_count": 18,
   "metadata": {},
   "outputs": [],
   "source": [
    "import numpy as np\n",
    "\n",
    "def square(a = 0, b = 0, c = 0):\n",
    "    if min(a, b, c) < 0:\n",
    "        print('Значения не могут быть отрицательными')\n",
    "        return\n",
    "    if (a != 0 and b == 0 and c != 0) or (a != 0 and b != 0 and c == 0) or a == 0:\n",
    "        print('неверный ввод')\n",
    "        return\n",
    "    if a == 0 and b == 0 and c == 0:\n",
    "        print('Введите значения')\n",
    "        return\n",
    "    if b == 0 and c == 0:\n",
    "        return np.pi * a**2\n",
    "    \n",
    "    else:\n",
    "        if max(a, b, c) > a + b + c - max(a, b, c):\n",
    "            print('неправильные стороны треугольника')\n",
    "            return\n",
    "        p = (a + b + c) / 2\n",
    "\n",
    "        if max(a, b, c)**2 == min(a, b, c)**2 + (a + b + c - max(a, b, c) - min(a, b, c))**2:\n",
    "            print('треугольник является прямоугольным')\n",
    "        else:\n",
    "            print('треугольник не является прямоугольным')\n",
    "\n",
    "        return np.sqrt(p * (p - a) * (p - b) * (p - c))"
   ]
  },
  {
   "cell_type": "code",
   "execution_count": 21,
   "metadata": {},
   "outputs": [
    {
     "name": "stdout",
     "output_type": "stream",
     "text": [
      "неправильные стороны треугольника\n",
      "None\n"
     ]
    }
   ],
   "source": [
    "square_figure = square(2, 2, 10)\n",
    "print(square_figure)"
   ]
  },
  {
   "cell_type": "code",
   "execution_count": 22,
   "metadata": {},
   "outputs": [
    {
     "name": "stdout",
     "output_type": "stream",
     "text": [
      "неверный ввод\n",
      "None\n"
     ]
    }
   ],
   "source": [
    "square_figure = square(0, 2, 10)\n",
    "print(square_figure)"
   ]
  },
  {
   "cell_type": "code",
   "execution_count": 23,
   "metadata": {},
   "outputs": [
    {
     "name": "stdout",
     "output_type": "stream",
     "text": [
      "12.566370614359172\n"
     ]
    }
   ],
   "source": [
    "square_figure = square(2)\n",
    "print(square_figure)"
   ]
  },
  {
   "cell_type": "code",
   "execution_count": 24,
   "metadata": {},
   "outputs": [
    {
     "name": "stdout",
     "output_type": "stream",
     "text": [
      "неверный ввод\n",
      "None\n"
     ]
    }
   ],
   "source": [
    "square_figure = square(2, 2, 0)\n",
    "print(square_figure)"
   ]
  },
  {
   "cell_type": "code",
   "execution_count": 25,
   "metadata": {},
   "outputs": [
    {
     "name": "stdout",
     "output_type": "stream",
     "text": [
      "треугольник является прямоугольным\n",
      "6.0\n"
     ]
    }
   ],
   "source": [
    "square_figure = square(3, 4, 5)\n",
    "print(square_figure)"
   ]
  },
  {
   "cell_type": "code",
   "execution_count": 26,
   "metadata": {},
   "outputs": [
    {
     "name": "stdout",
     "output_type": "stream",
     "text": [
      "треугольник не является прямоугольным\n",
      "5.332682251925386\n"
     ]
    }
   ],
   "source": [
    "square_figure = square(3, 4, 6)\n",
    "print(square_figure)"
   ]
  }
 ],
 "metadata": {
  "kernelspec": {
   "display_name": "Python 3",
   "language": "python",
   "name": "python3"
  },
  "language_info": {
   "codemirror_mode": {
    "name": "ipython",
    "version": 3
   },
   "file_extension": ".py",
   "mimetype": "text/x-python",
   "name": "python",
   "nbconvert_exporter": "python",
   "pygments_lexer": "ipython3",
   "version": "3.9.4"
  }
 },
 "nbformat": 4,
 "nbformat_minor": 2
}
